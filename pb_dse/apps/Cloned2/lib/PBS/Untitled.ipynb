{
 "cells": [
  {
   "cell_type": "code",
   "execution_count": 17,
   "metadata": {},
   "outputs": [
    {
     "name": "stdout",
     "output_type": "stream",
     "text": [
      "Dude\n"
     ]
    }
   ],
   "source": [
    "mylist = ['abc123', 'def456', 'ghi789', 'ABC987', 'aBc54']\n",
    "if True == mylist[0].startswith(\"abc\"):\n",
    "    print(\"Dude\")\n",
    "# for strin in mylist[0]:\n",
    "#     print(strin)\n",
    "#     if \"a\" ==string[0]:\n",
    "#         print(\"Dude\")"
   ]
  },
  {
   "cell_type": "code",
   "execution_count": 15,
   "metadata": {},
   "outputs": [
    {
     "data": {
      "text/plain": [
       "'B'"
      ]
     },
     "execution_count": 15,
     "metadata": {},
     "output_type": "execute_result"
    }
   ],
   "source": [
    "import pandas as pd\n",
    "# df= pd.read_csv(r\"C:\\Users\\sagar\\Downloads\\phenotype.csv\")\n",
    "row_h20 = df.iloc[5,-1]\n",
    "row_h20"
   ]
  },
  {
   "cell_type": "code",
   "execution_count": 27,
   "metadata": {},
   "outputs": [
    {
     "data": {
      "text/plain": [
       "'XGBoost_3_AutoML_20210507_111736'"
      ]
     },
     "execution_count": 27,
     "metadata": {},
     "output_type": "execute_result"
    }
   ],
   "source": [
    "model_ids= [\"XGBoost_3_AutoML_20210507_111736\",\"GBM_2_AutoML_20210507_111736\",\"GLM_1_AutoML_20210507_111736\"]\n",
    "model_ids[0]\n",
    "# i =0\n",
    "# while len(model_ids) > i :\n",
    "#     print(\"i\",i)\n",
    "#     if True == model_ids[i].startswith(\"GBM\"):\n",
    "#         print(\"final\",model_ids[i])\n",
    "#     i += 1"
   ]
  },
  {
   "cell_type": "code",
   "execution_count": null,
   "metadata": {},
   "outputs": [],
   "source": [
    "model_01 = h2o.load_model(os.path.join(model_ids[i]))\n",
    "\n",
    "excluded_params = ['model_id', 'response_column', 'ignored_columns']\n",
    "model_01_actual_params = {k: v['actual'] for k, v in model_01.params.items() if k not in excluded_params}\n",
    "\n",
    "reprod_model_01 = H2OXGBoostEstimator(**model_01_actual_params)\n",
    "reprod_model_01.train(\n",
    "    x=feature_cols,\n",
    "    y='dep_delayed_15min',\n",
    "    training_frame=X_y_train_h\n",
    ")\n",
    "reprod_model_01.auc(xval=True)"
   ]
  }
 ],
 "metadata": {
  "kernelspec": {
   "display_name": "Python 3",
   "language": "python",
   "name": "python3"
  },
  "language_info": {
   "codemirror_mode": {
    "name": "ipython",
    "version": 3
   },
   "file_extension": ".py",
   "mimetype": "text/x-python",
   "name": "python",
   "nbconvert_exporter": "python",
   "pygments_lexer": "ipython3",
   "version": "3.7.6"
  }
 },
 "nbformat": 4,
 "nbformat_minor": 4
}
